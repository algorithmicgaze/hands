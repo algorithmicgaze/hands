{
 "cells": [
  {
   "attachments": {},
   "cell_type": "markdown",
   "metadata": {},
   "source": [
    "# Transformer Training on Pose Data"
   ]
  },
  {
   "cell_type": "code",
   "execution_count": 1,
   "metadata": {},
   "outputs": [
    {
     "name": "stdout",
     "output_type": "stream",
     "text": [
      "GPU 0: NVIDIA GeForce RTX 4090 (UUID: GPU-59ba7a4d-461d-6c44-7eea-a4200c322183)\n"
     ]
    }
   ],
   "source": [
    "!nvidia-smi -L"
   ]
  },
  {
   "cell_type": "code",
   "execution_count": 2,
   "metadata": {},
   "outputs": [],
   "source": [
    "import os\n",
    "import math\n",
    "import numpy as np\n",
    "import torch\n",
    "import torch.nn as nn\n",
    "import torch.distributions as D\n",
    "from torch.utils.data import Dataset\n",
    "from torch.utils.data import DataLoader\n",
    "import torch.optim as optim\n",
    "from torch.optim.lr_scheduler import StepLR\n",
    "from tqdm import tqdm\n",
    "from sklearn.preprocessing import MinMaxScaler\n"
   ]
  },
  {
   "attachments": {},
   "cell_type": "markdown",
   "metadata": {},
   "source": [
    "## Loading the Data"
   ]
  },
  {
   "cell_type": "code",
   "execution_count": 3,
   "metadata": {},
   "outputs": [],
   "source": [
    "def find_line(lines, prefix):\n",
    "  for line in lines:\n",
    "    if line.startswith('Frames:'):\n",
    "      return line"
   ]
  },
  {
   "cell_type": "code",
   "execution_count": 4,
   "metadata": {},
   "outputs": [],
   "source": [
    "def read_bvh_file(file_path):\n",
    "    # Read file contents\n",
    "    with open(file_path, 'r') as f:\n",
    "        file_contents = f.read()\n",
    "        \n",
    "    # Split file contents by newline characters\n",
    "    lines = file_contents.split('\\n')\n",
    "\n",
    "    # Find the channel names\n",
    "    channel_names = []\n",
    "    joint_name = None\n",
    "    for line in lines:\n",
    "      line = line.strip()\n",
    "      if line.startswith('JOINT') or line.startswith('ROOT'):\n",
    "        # Joint line looks like this:\n",
    "        # JOINT Spine2\n",
    "        joint_data = line.split(' ')\n",
    "        joint_name = joint_data[1]\n",
    "      if line.startswith('CHANNELS'):\n",
    "        # Channels line looks like this:\n",
    "        # CHANNELS 3 Yrotation Xrotation Zrotation\n",
    "        channel_data = line.split(' ')\n",
    "        for channel in channel_data[2:]:\n",
    "          channel_names.append(f'{joint_name}_{channel}')\n",
    "    \n",
    "    # Find the number of frames and the start of the motion data\n",
    "    num_frames_line = find_line(lines, 'Frames:')\n",
    "    num_frames = int(num_frames_line.split(' ')[1])\n",
    "    motion_data_index = lines.index('MOTION') + 3\n",
    "    header = '\\n'.join(lines[:motion_data_index])\n",
    "    \n",
    "    # Find the number of channels in the file\n",
    "    first_frame_data = lines[motion_data_index].strip().split(' ')\n",
    "    num_channels = len(first_frame_data)\n",
    "    print('Channels:', num_channels)\n",
    "\n",
    "    # Extract the motion data as a string\n",
    "    motion_data_str = ''.join(lines[motion_data_index:motion_data_index+num_frames])\n",
    "    \n",
    "    # Convert the motion data to a numpy array\n",
    "    motion_data = np.fromstring(motion_data_str, sep=' ')\n",
    "    motion_data = motion_data.reshape((num_frames, -1))\n",
    "    \n",
    "    # Convert the numpy array to a PyTorch tensor\n",
    "    motion_tensor = torch.tensor(motion_data, dtype=torch.float32)\n",
    "    \n",
    "    return motion_tensor, header, channel_names"
   ]
  },
  {
   "cell_type": "code",
   "execution_count": 5,
   "metadata": {},
   "outputs": [
    {
     "name": "stdout",
     "output_type": "stream",
     "text": [
      "Channels: 183\n",
      "torch.Size([19298, 183])\n"
     ]
    }
   ],
   "source": [
    "raw_data, header, channel_names = read_bvh_file('train_data/flute2.bvh')\n",
    "print(raw_data.shape)\n",
    "#print(channel_names)"
   ]
  },
  {
   "attachments": {},
   "cell_type": "markdown",
   "metadata": {},
   "source": [
    "## Building a PyTorch Dataset"
   ]
  },
  {
   "cell_type": "code",
   "execution_count": 6,
   "metadata": {},
   "outputs": [],
   "source": [
    "class BVHDataset(Dataset):\n",
    "    def __init__(self, file_path, input_size, output_size, seq_length, future_delta):\n",
    "        self.file_path = file_path\n",
    "        self.input_size = input_size\n",
    "        self.output_size = output_size\n",
    "        self.seq_length = seq_length\n",
    "        self.future_delta = future_delta\n",
    "\n",
    "        # Read BVH file\n",
    "        self.motion_tensor, self.header, self.channel_names = read_bvh_file(file_path)\n",
    "\n",
    "        # Compute the total number of sequences in the file\n",
    "        self.total_sequences = len(self.motion_tensor) - self.seq_length - self.future_delta\n",
    "\n",
    "        # Compute input_mean and input_std\n",
    "        self.input_mean = torch.mean(self.motion_tensor, dim=(0,))\n",
    "        self.input_std = torch.std(self.motion_tensor, dim=(0,))\n",
    "        self.input_std = torch.where(self.input_std == 0, torch.tensor(1e-7), self.input_std)\n",
    "\n",
    "    def __len__(self):\n",
    "        return self.total_sequences\n",
    "\n",
    "    def __getitem__(self, idx):\n",
    "        # Compute the sequence index for the given index\n",
    "        seq_idx = idx + self.seq_length\n",
    "\n",
    "        # Get the sequence of length seq_length as input x\n",
    "        input_tensor = self.motion_tensor[seq_idx - self.seq_length:seq_idx, :self.input_size]\n",
    "\n",
    "        # Get the frame future_delta frames into the future as output y\n",
    "        output_tensor = self.motion_tensor[seq_idx + self.future_delta, :self.output_size]\n",
    "\n",
    "        # Normalize input and output tensors\n",
    "        input_tensor = (input_tensor - self.input_mean) / self.input_std\n",
    "        output_tensor = (output_tensor - self.input_mean[:self.output_size]) / self.input_std[:self.output_size]\n",
    "\n",
    "        return input_tensor, output_tensor\n"
   ]
  },
  {
   "cell_type": "code",
   "execution_count": 33,
   "metadata": {},
   "outputs": [
    {
     "name": "stdout",
     "output_type": "stream",
     "text": [
      "Channels: 183\n"
     ]
    }
   ],
   "source": [
    "# Create data loaders\n",
    "\n",
    "num_channels = raw_data.shape[-1]\n",
    "input_size = num_channels\n",
    "output_size = num_channels\n",
    "seq_length = 100\n",
    "future_delta = 1\n",
    "batch_size = 32\n",
    "\n",
    "\n",
    "dataset = BVHDataset('train_data/flute2.bvh', input_size, output_size, seq_length, future_delta)\n",
    "\n",
    "# Split the dataset into training and validation sets\n",
    "train_size = int(0.8 * len(dataset))\n",
    "val_size = len(dataset) - train_size\n",
    "train_dataset, val_dataset = torch.utils.data.random_split(dataset, [train_size, val_size])\n",
    "\n",
    "train_loader = DataLoader(train_dataset, batch_size=batch_size, shuffle=True)\n",
    "val_loader = DataLoader(val_dataset, batch_size=batch_size, shuffle=False)"
   ]
  },
  {
   "cell_type": "markdown",
   "metadata": {},
   "source": [
    "## Defining the Model"
   ]
  },
  {
   "cell_type": "code",
   "execution_count": 42,
   "metadata": {},
   "outputs": [],
   "source": [
    "import torch\n",
    "import torch.nn as nn\n",
    "\n",
    "def create_position_encoding(sequence_length, model_dim):\n",
    "    position_encoding = torch.zeros(sequence_length, model_dim)\n",
    "    positions = torch.arange(0, sequence_length, dtype=torch.float).unsqueeze(1)\n",
    "    div_term = torch.exp(torch.arange(0, model_dim, 2).float() * (-math.log(10000.0) / model_dim))\n",
    "    position_encoding[:, 0::2] = torch.sin(positions * div_term)\n",
    "    position_encoding[:, 1::2] = torch.cos(positions * div_term)\n",
    "    position_encoding = position_encoding.unsqueeze(0).transpose(0, 1)\n",
    "    return position_encoding.to(device)\n",
    "\n",
    "\n",
    "class PoseTransformer(nn.Module):\n",
    "    def __init__(self, input_dim, model_dim, num_heads, num_layers, output_dim, sequence_length):\n",
    "        super(PoseTransformer, self).__init__()\n",
    "\n",
    "        self.model_dim = model_dim\n",
    "        self.sequence_length = sequence_length\n",
    "\n",
    "        self.embedding = nn.Linear(input_dim, model_dim)\n",
    "        self.position_encoding = create_position_encoding(sequence_length, model_dim)\n",
    "\n",
    "        self.transformer = nn.Transformer(\n",
    "            d_model=model_dim,\n",
    "            nhead=num_heads,\n",
    "            num_encoder_layers=num_layers,\n",
    "            num_decoder_layers=num_layers,\n",
    "            dim_feedforward=model_dim * 4,\n",
    "            dropout=0.1\n",
    "        )\n",
    "        self.fc_out = nn.Linear(model_dim, output_dim)\n",
    "\n",
    "    def forward(self, x, tgt):\n",
    "        # x shape: (batch_size, sequence_length, input_dim)\n",
    "        #print(\"x shape:\", x.shape)\n",
    "        #print(\"self.embedding(x) shape:\", self.embedding(x).shape)\n",
    "        #print(\"self.position_encoding shape:\", self.position_encoding.shape)\n",
    "\n",
    "\n",
    "        x = self.embedding(x) + self.position_encoding.repeat(1, x.size(0), 1).permute(1, 0, 2)\n",
    "        #x = self.embedding(x) + self.position_encoding.repeat(x.size(0), 1, 1)\n",
    "        # x shape: (sequence_length, batch_size, model_dim)\n",
    "        #x = x.permute(1, 0, 2)\n",
    "        \n",
    "        # tgt shape: (batch_size, sequence_length, input_dim)\n",
    "        #tgt = self.embedding(tgt) + self.position_encoding.repeat(tgt.size(0), 1, 1)\n",
    "        # tgt shape: (sequence_length, batch_size, model_dim)\n",
    "        #tgt = tgt.permute(1, 0, 2)\n",
    "        \n",
    "        # Pass the input through the transformer\n",
    "        # If tgt is None, the decoder will generate an output sequence based on the encoder's output\n",
    "        output = self.transformer(x, x)\n",
    "\n",
    "        # Output shape: (batch_size, sequence_length, input_dim)\n",
    "        output = self.fc_out(output).permute(1, 0, 2)\n",
    "\n",
    "        return output\n",
    "\n",
    "# Hyperparameters\n",
    "input_dim = 183\n",
    "output_dim = 183\n",
    "model_dim = 512\n",
    "num_heads = 8\n",
    "num_layers = 6\n",
    "sequence_length = 100\n",
    "\n",
    "# Create the model\n",
    "model = PoseTransformer(input_dim, model_dim, num_heads, num_layers, output_dim, sequence_length)\n"
   ]
  },
  {
   "cell_type": "code",
   "execution_count": 43,
   "metadata": {},
   "outputs": [
    {
     "name": "stdout",
     "output_type": "stream",
     "text": [
      "Training on cuda\n"
     ]
    },
    {
     "name": "stderr",
     "output_type": "stream",
     "text": [
      "100%|█████████▉| 479/480 [00:22<00:00, 21.79it/s]/usr/lib/python3/dist-packages/torch/nn/modules/loss.py:536: UserWarning: Using a target size (torch.Size([29, 183])) that is different to the input size (torch.Size([100, 29, 183])). This will likely lead to incorrect results due to broadcasting. Please ensure they have the same size.\n",
      "  return F.mse_loss(input, target, reduction=self.reduction)\n",
      "100%|██████████| 480/480 [00:22<00:00, 21.73it/s]\n"
     ]
    },
    {
     "name": "stdout",
     "output_type": "stream",
     "text": [
      "Epoch 1/50, Train Loss: 0.857700\n",
      "Epoch 1/50, Validation Loss: 0.825883\n"
     ]
    },
    {
     "name": "stderr",
     "output_type": "stream",
     "text": [
      "100%|██████████| 480/480 [00:22<00:00, 21.36it/s]\n"
     ]
    },
    {
     "name": "stdout",
     "output_type": "stream",
     "text": [
      "Epoch 2/50, Train Loss: 0.837075\n",
      "Epoch 2/50, Validation Loss: 0.824164\n"
     ]
    },
    {
     "name": "stderr",
     "output_type": "stream",
     "text": [
      "100%|██████████| 480/480 [00:22<00:00, 21.59it/s]\n"
     ]
    },
    {
     "name": "stdout",
     "output_type": "stream",
     "text": [
      "Epoch 3/50, Train Loss: 0.835649\n",
      "Epoch 3/50, Validation Loss: 0.823603\n"
     ]
    },
    {
     "name": "stderr",
     "output_type": "stream",
     "text": [
      "100%|██████████| 480/480 [00:22<00:00, 21.81it/s]\n"
     ]
    },
    {
     "name": "stdout",
     "output_type": "stream",
     "text": [
      "Epoch 4/50, Train Loss: 0.835242\n",
      "Epoch 4/50, Validation Loss: 0.823926\n"
     ]
    },
    {
     "name": "stderr",
     "output_type": "stream",
     "text": [
      "100%|██████████| 480/480 [00:21<00:00, 21.89it/s]\n"
     ]
    },
    {
     "name": "stdout",
     "output_type": "stream",
     "text": [
      "Epoch 5/50, Train Loss: 0.835118\n",
      "Epoch 5/50, Validation Loss: 0.823721\n"
     ]
    },
    {
     "name": "stderr",
     "output_type": "stream",
     "text": [
      "100%|██████████| 480/480 [00:22<00:00, 21.81it/s]\n"
     ]
    },
    {
     "name": "stdout",
     "output_type": "stream",
     "text": [
      "Epoch 6/50, Train Loss: 0.834997\n",
      "Epoch 6/50, Validation Loss: 0.823709\n"
     ]
    },
    {
     "name": "stderr",
     "output_type": "stream",
     "text": [
      "100%|██████████| 480/480 [00:21<00:00, 21.98it/s]\n"
     ]
    },
    {
     "name": "stdout",
     "output_type": "stream",
     "text": [
      "Epoch 7/50, Train Loss: 0.834992\n",
      "Epoch 7/50, Validation Loss: 0.823612\n"
     ]
    },
    {
     "name": "stderr",
     "output_type": "stream",
     "text": [
      "100%|██████████| 480/480 [00:21<00:00, 22.04it/s]\n"
     ]
    },
    {
     "name": "stdout",
     "output_type": "stream",
     "text": [
      "Epoch 8/50, Train Loss: 0.834824\n",
      "Epoch 8/50, Validation Loss: 0.823737\n"
     ]
    },
    {
     "name": "stderr",
     "output_type": "stream",
     "text": [
      "100%|██████████| 480/480 [00:21<00:00, 22.14it/s]\n"
     ]
    },
    {
     "name": "stdout",
     "output_type": "stream",
     "text": [
      "Epoch 9/50, Train Loss: 0.834935\n",
      "Epoch 9/50, Validation Loss: 0.823576\n"
     ]
    },
    {
     "name": "stderr",
     "output_type": "stream",
     "text": [
      "100%|██████████| 480/480 [00:21<00:00, 22.02it/s]\n"
     ]
    },
    {
     "name": "stdout",
     "output_type": "stream",
     "text": [
      "Epoch 10/50, Train Loss: 0.834874\n",
      "Epoch 10/50, Validation Loss: 0.823503\n"
     ]
    },
    {
     "name": "stderr",
     "output_type": "stream",
     "text": [
      "100%|██████████| 480/480 [00:21<00:00, 22.17it/s]\n"
     ]
    },
    {
     "name": "stdout",
     "output_type": "stream",
     "text": [
      "Epoch 11/50, Train Loss: 0.834857\n",
      "Epoch 11/50, Validation Loss: 0.823549\n"
     ]
    },
    {
     "name": "stderr",
     "output_type": "stream",
     "text": [
      "100%|██████████| 480/480 [00:21<00:00, 22.15it/s]\n"
     ]
    },
    {
     "name": "stdout",
     "output_type": "stream",
     "text": [
      "Epoch 12/50, Train Loss: 0.834795\n",
      "Epoch 12/50, Validation Loss: 0.823672\n"
     ]
    },
    {
     "name": "stderr",
     "output_type": "stream",
     "text": [
      "100%|██████████| 480/480 [00:21<00:00, 22.08it/s]\n"
     ]
    },
    {
     "name": "stdout",
     "output_type": "stream",
     "text": [
      "Epoch 13/50, Train Loss: 0.834740\n",
      "Epoch 13/50, Validation Loss: 0.823589\n"
     ]
    },
    {
     "name": "stderr",
     "output_type": "stream",
     "text": [
      "100%|██████████| 480/480 [00:21<00:00, 22.22it/s]\n"
     ]
    },
    {
     "name": "stdout",
     "output_type": "stream",
     "text": [
      "Epoch 14/50, Train Loss: 0.834821\n",
      "Epoch 14/50, Validation Loss: 0.823517\n"
     ]
    },
    {
     "name": "stderr",
     "output_type": "stream",
     "text": [
      "100%|██████████| 480/480 [00:21<00:00, 22.19it/s]\n"
     ]
    },
    {
     "name": "stdout",
     "output_type": "stream",
     "text": [
      "Epoch 15/50, Train Loss: 0.834848\n",
      "Epoch 15/50, Validation Loss: 0.823656\n"
     ]
    },
    {
     "name": "stderr",
     "output_type": "stream",
     "text": [
      "100%|██████████| 480/480 [00:21<00:00, 21.97it/s]\n"
     ]
    },
    {
     "name": "stdout",
     "output_type": "stream",
     "text": [
      "Epoch 16/50, Train Loss: 0.834951\n",
      "Epoch 16/50, Validation Loss: 0.823569\n"
     ]
    },
    {
     "name": "stderr",
     "output_type": "stream",
     "text": [
      "100%|██████████| 480/480 [00:22<00:00, 21.70it/s]\n"
     ]
    },
    {
     "name": "stdout",
     "output_type": "stream",
     "text": [
      "Epoch 17/50, Train Loss: 0.834887\n",
      "Epoch 17/50, Validation Loss: 0.823589\n"
     ]
    },
    {
     "name": "stderr",
     "output_type": "stream",
     "text": [
      "100%|██████████| 480/480 [00:21<00:00, 21.96it/s]\n"
     ]
    },
    {
     "name": "stdout",
     "output_type": "stream",
     "text": [
      "Epoch 18/50, Train Loss: 0.834805\n",
      "Epoch 18/50, Validation Loss: 0.823801\n"
     ]
    },
    {
     "name": "stderr",
     "output_type": "stream",
     "text": [
      "100%|██████████| 480/480 [00:21<00:00, 21.91it/s]\n"
     ]
    },
    {
     "name": "stdout",
     "output_type": "stream",
     "text": [
      "Epoch 19/50, Train Loss: 0.834919\n",
      "Epoch 19/50, Validation Loss: 0.823706\n"
     ]
    },
    {
     "name": "stderr",
     "output_type": "stream",
     "text": [
      "100%|██████████| 480/480 [00:21<00:00, 22.00it/s]\n"
     ]
    },
    {
     "name": "stdout",
     "output_type": "stream",
     "text": [
      "Epoch 20/50, Train Loss: 0.834883\n",
      "Epoch 20/50, Validation Loss: 0.823574\n"
     ]
    },
    {
     "name": "stderr",
     "output_type": "stream",
     "text": [
      "100%|██████████| 480/480 [00:22<00:00, 21.42it/s]\n"
     ]
    },
    {
     "name": "stdout",
     "output_type": "stream",
     "text": [
      "Epoch 21/50, Train Loss: 0.834885\n",
      "Epoch 21/50, Validation Loss: 0.823459\n"
     ]
    },
    {
     "name": "stderr",
     "output_type": "stream",
     "text": [
      "100%|██████████| 480/480 [00:22<00:00, 21.42it/s]\n"
     ]
    },
    {
     "name": "stdout",
     "output_type": "stream",
     "text": [
      "Epoch 22/50, Train Loss: 0.834825\n",
      "Epoch 22/50, Validation Loss: 0.823557\n"
     ]
    },
    {
     "name": "stderr",
     "output_type": "stream",
     "text": [
      "100%|██████████| 480/480 [00:22<00:00, 21.41it/s]\n"
     ]
    },
    {
     "name": "stdout",
     "output_type": "stream",
     "text": [
      "Epoch 23/50, Train Loss: 0.834850\n",
      "Epoch 23/50, Validation Loss: 0.823548\n"
     ]
    },
    {
     "name": "stderr",
     "output_type": "stream",
     "text": [
      "100%|██████████| 480/480 [00:22<00:00, 21.41it/s]\n"
     ]
    },
    {
     "name": "stdout",
     "output_type": "stream",
     "text": [
      "Epoch 24/50, Train Loss: 0.834796\n",
      "Epoch 24/50, Validation Loss: 0.823524\n"
     ]
    },
    {
     "name": "stderr",
     "output_type": "stream",
     "text": [
      "100%|██████████| 480/480 [00:22<00:00, 21.39it/s]\n"
     ]
    },
    {
     "name": "stdout",
     "output_type": "stream",
     "text": [
      "Epoch 25/50, Train Loss: 0.834881\n",
      "Epoch 25/50, Validation Loss: 0.823495\n"
     ]
    },
    {
     "name": "stderr",
     "output_type": "stream",
     "text": [
      "100%|██████████| 480/480 [00:22<00:00, 21.38it/s]\n"
     ]
    },
    {
     "name": "stdout",
     "output_type": "stream",
     "text": [
      "Epoch 26/50, Train Loss: 0.834773\n",
      "Epoch 26/50, Validation Loss: 0.823476\n"
     ]
    },
    {
     "name": "stderr",
     "output_type": "stream",
     "text": [
      "100%|██████████| 480/480 [00:22<00:00, 21.35it/s]\n"
     ]
    },
    {
     "name": "stdout",
     "output_type": "stream",
     "text": [
      "Epoch 27/50, Train Loss: 0.834776\n",
      "Epoch 27/50, Validation Loss: 0.823531\n"
     ]
    },
    {
     "name": "stderr",
     "output_type": "stream",
     "text": [
      "100%|██████████| 480/480 [00:22<00:00, 21.49it/s]\n"
     ]
    },
    {
     "name": "stdout",
     "output_type": "stream",
     "text": [
      "Epoch 28/50, Train Loss: 0.834879\n",
      "Epoch 28/50, Validation Loss: 0.823744\n"
     ]
    },
    {
     "name": "stderr",
     "output_type": "stream",
     "text": [
      "100%|██████████| 480/480 [00:22<00:00, 21.58it/s]\n"
     ]
    },
    {
     "name": "stdout",
     "output_type": "stream",
     "text": [
      "Epoch 29/50, Train Loss: 0.834805\n",
      "Epoch 29/50, Validation Loss: 0.823554\n"
     ]
    },
    {
     "name": "stderr",
     "output_type": "stream",
     "text": [
      "100%|██████████| 480/480 [00:22<00:00, 21.72it/s]\n"
     ]
    },
    {
     "name": "stdout",
     "output_type": "stream",
     "text": [
      "Epoch 30/50, Train Loss: 0.834740\n",
      "Epoch 30/50, Validation Loss: 0.823730\n"
     ]
    },
    {
     "name": "stderr",
     "output_type": "stream",
     "text": [
      "100%|██████████| 480/480 [00:22<00:00, 21.72it/s]\n"
     ]
    },
    {
     "name": "stdout",
     "output_type": "stream",
     "text": [
      "Epoch 31/50, Train Loss: 0.834731\n",
      "Epoch 31/50, Validation Loss: 0.823474\n"
     ]
    },
    {
     "name": "stderr",
     "output_type": "stream",
     "text": [
      "100%|██████████| 480/480 [00:22<00:00, 21.80it/s]\n"
     ]
    },
    {
     "name": "stdout",
     "output_type": "stream",
     "text": [
      "Epoch 32/50, Train Loss: 0.834729\n",
      "Epoch 32/50, Validation Loss: 0.823442\n"
     ]
    },
    {
     "name": "stderr",
     "output_type": "stream",
     "text": [
      "100%|██████████| 480/480 [00:22<00:00, 21.71it/s]\n"
     ]
    },
    {
     "name": "stdout",
     "output_type": "stream",
     "text": [
      "Epoch 33/50, Train Loss: 0.834775\n",
      "Epoch 33/50, Validation Loss: 0.823503\n"
     ]
    },
    {
     "name": "stderr",
     "output_type": "stream",
     "text": [
      "100%|██████████| 480/480 [00:22<00:00, 21.78it/s]\n"
     ]
    },
    {
     "name": "stdout",
     "output_type": "stream",
     "text": [
      "Epoch 34/50, Train Loss: 0.834894\n",
      "Epoch 34/50, Validation Loss: 0.824408\n"
     ]
    },
    {
     "name": "stderr",
     "output_type": "stream",
     "text": [
      "100%|██████████| 480/480 [00:21<00:00, 21.82it/s]\n"
     ]
    },
    {
     "name": "stdout",
     "output_type": "stream",
     "text": [
      "Epoch 35/50, Train Loss: 0.834807\n",
      "Epoch 35/50, Validation Loss: 0.823817\n"
     ]
    },
    {
     "name": "stderr",
     "output_type": "stream",
     "text": [
      "100%|██████████| 480/480 [00:21<00:00, 21.90it/s]\n"
     ]
    },
    {
     "name": "stdout",
     "output_type": "stream",
     "text": [
      "Epoch 36/50, Train Loss: 0.834777\n",
      "Epoch 36/50, Validation Loss: 0.823557\n"
     ]
    },
    {
     "name": "stderr",
     "output_type": "stream",
     "text": [
      "100%|██████████| 480/480 [00:22<00:00, 21.42it/s]\n"
     ]
    },
    {
     "name": "stdout",
     "output_type": "stream",
     "text": [
      "Epoch 37/50, Train Loss: 0.834798\n",
      "Epoch 37/50, Validation Loss: 0.823776\n"
     ]
    },
    {
     "name": "stderr",
     "output_type": "stream",
     "text": [
      "100%|██████████| 480/480 [00:22<00:00, 21.64it/s]\n"
     ]
    },
    {
     "name": "stdout",
     "output_type": "stream",
     "text": [
      "Epoch 38/50, Train Loss: 0.834738\n",
      "Epoch 38/50, Validation Loss: 0.823503\n"
     ]
    },
    {
     "name": "stderr",
     "output_type": "stream",
     "text": [
      "100%|██████████| 480/480 [00:22<00:00, 21.42it/s]\n"
     ]
    },
    {
     "name": "stdout",
     "output_type": "stream",
     "text": [
      "Epoch 39/50, Train Loss: 0.834692\n",
      "Epoch 39/50, Validation Loss: 0.823542\n"
     ]
    },
    {
     "name": "stderr",
     "output_type": "stream",
     "text": [
      "100%|██████████| 480/480 [00:22<00:00, 21.29it/s]\n"
     ]
    },
    {
     "name": "stdout",
     "output_type": "stream",
     "text": [
      "Epoch 40/50, Train Loss: 0.834727\n",
      "Epoch 40/50, Validation Loss: 0.823616\n"
     ]
    },
    {
     "name": "stderr",
     "output_type": "stream",
     "text": [
      "100%|██████████| 480/480 [00:21<00:00, 21.97it/s]\n"
     ]
    },
    {
     "name": "stdout",
     "output_type": "stream",
     "text": [
      "Epoch 41/50, Train Loss: 0.834735\n",
      "Epoch 41/50, Validation Loss: 0.823553\n"
     ]
    },
    {
     "name": "stderr",
     "output_type": "stream",
     "text": [
      "100%|██████████| 480/480 [00:22<00:00, 21.75it/s]\n"
     ]
    },
    {
     "name": "stdout",
     "output_type": "stream",
     "text": [
      "Epoch 42/50, Train Loss: 0.834829\n",
      "Epoch 42/50, Validation Loss: 0.823406\n"
     ]
    },
    {
     "name": "stderr",
     "output_type": "stream",
     "text": [
      "100%|██████████| 480/480 [00:22<00:00, 21.77it/s]\n"
     ]
    },
    {
     "name": "stdout",
     "output_type": "stream",
     "text": [
      "Epoch 43/50, Train Loss: 0.834725\n",
      "Epoch 43/50, Validation Loss: 0.823711\n"
     ]
    },
    {
     "name": "stderr",
     "output_type": "stream",
     "text": [
      "100%|██████████| 480/480 [00:22<00:00, 21.76it/s]\n"
     ]
    },
    {
     "name": "stdout",
     "output_type": "stream",
     "text": [
      "Epoch 44/50, Train Loss: 0.834754\n",
      "Epoch 44/50, Validation Loss: 0.823525\n"
     ]
    },
    {
     "name": "stderr",
     "output_type": "stream",
     "text": [
      "100%|██████████| 480/480 [00:21<00:00, 21.90it/s]\n"
     ]
    },
    {
     "name": "stdout",
     "output_type": "stream",
     "text": [
      "Epoch 45/50, Train Loss: 0.834723\n",
      "Epoch 45/50, Validation Loss: 0.823460\n"
     ]
    },
    {
     "name": "stderr",
     "output_type": "stream",
     "text": [
      "100%|██████████| 480/480 [00:22<00:00, 21.80it/s]\n"
     ]
    },
    {
     "name": "stdout",
     "output_type": "stream",
     "text": [
      "Epoch 46/50, Train Loss: 0.834724\n",
      "Epoch 46/50, Validation Loss: 0.823459\n"
     ]
    },
    {
     "name": "stderr",
     "output_type": "stream",
     "text": [
      "100%|██████████| 480/480 [00:21<00:00, 21.82it/s]\n"
     ]
    },
    {
     "name": "stdout",
     "output_type": "stream",
     "text": [
      "Epoch 47/50, Train Loss: 0.834691\n",
      "Epoch 47/50, Validation Loss: 0.823535\n"
     ]
    },
    {
     "name": "stderr",
     "output_type": "stream",
     "text": [
      "100%|██████████| 480/480 [00:21<00:00, 21.87it/s]\n"
     ]
    },
    {
     "name": "stdout",
     "output_type": "stream",
     "text": [
      "Epoch 48/50, Train Loss: 0.834849\n",
      "Epoch 48/50, Validation Loss: 0.823424\n"
     ]
    },
    {
     "name": "stderr",
     "output_type": "stream",
     "text": [
      "100%|██████████| 480/480 [00:22<00:00, 21.25it/s]\n"
     ]
    },
    {
     "name": "stdout",
     "output_type": "stream",
     "text": [
      "Epoch 49/50, Train Loss: 0.834766\n",
      "Epoch 49/50, Validation Loss: 0.823473\n"
     ]
    },
    {
     "name": "stderr",
     "output_type": "stream",
     "text": [
      "100%|██████████| 480/480 [00:22<00:00, 21.43it/s]\n"
     ]
    },
    {
     "name": "stdout",
     "output_type": "stream",
     "text": [
      "Epoch 50/50, Train Loss: 0.834709\n",
      "Epoch 50/50, Validation Loss: 0.823756\n"
     ]
    }
   ],
   "source": [
    "# Loss function\n",
    "criterion = nn.MSELoss()\n",
    "\n",
    "# Optimizer\n",
    "optimizer = optim.Adam(model.parameters(), lr=0.001)\n",
    "\n",
    "# Learning rate scheduler (optional)\n",
    "scheduler = StepLR(optimizer, step_size=10, gamma=0.9)\n",
    "\n",
    "# Training parameters\n",
    "num_epochs = 50\n",
    "device = torch.device(\"cuda\" if torch.cuda.is_available() else \"cpu\")\n",
    "print(f'Training on {device}')\n",
    "\n",
    "# Move the model to the device\n",
    "model.to(device)\n",
    "\n",
    "# Main training loop\n",
    "for epoch in range(num_epochs):\n",
    "    # Training\n",
    "    model.train()\n",
    "    train_loss = 0\n",
    "    for batch_idx, (input_seq, target_seq) in enumerate(tqdm(train_loader)):\n",
    "        input_seq, target_seq = input_seq.to(device), target_seq.to(device)\n",
    "\n",
    "        optimizer.zero_grad()\n",
    "\n",
    "        # Pass only the input_seq to the model during training\n",
    "        output = model(input_seq, input_seq)\n",
    "\n",
    "        loss = criterion(output, target_seq)\n",
    "        loss.backward()\n",
    "\n",
    "        torch.nn.utils.clip_grad_norm_(model.parameters(), 1)\n",
    "        optimizer.step()\n",
    "\n",
    "        train_loss += loss.item()\n",
    "\n",
    "    train_loss /= len(train_loader)\n",
    "    print(f\"Epoch {epoch+1}/{num_epochs}, Train Loss: {train_loss:.6f}\")\n",
    "\n",
    "    # Validation\n",
    "    model.eval()\n",
    "    val_loss = 0\n",
    "    with torch.no_grad():\n",
    "        for batch_idx, (input_seq, target_seq) in enumerate(val_loader):\n",
    "            input_seq, target_seq = input_seq.to(device), target_seq.to(device)\n",
    "            output = model(input_seq, input_seq)\n",
    "            loss = criterion(output, target_seq)\n",
    "            val_loss += loss.item()\n",
    "            \n",
    "        val_loss /= len(val_loader)\n",
    "        print(f\"Epoch {epoch+1}/{num_epochs}, Validation Loss: {val_loss:.6f}\")\n",
    "\n",
    "    # Update learning rate\n",
    "    scheduler.step()\n"
   ]
  },
  {
   "cell_type": "code",
   "execution_count": 64,
   "metadata": {},
   "outputs": [],
   "source": [
    "torch.save(model.state_dict(), 'transformer_model.pt')"
   ]
  },
  {
   "attachments": {},
   "cell_type": "markdown",
   "metadata": {},
   "source": [
    "## Inference"
   ]
  },
  {
   "cell_type": "code",
   "execution_count": 80,
   "metadata": {},
   "outputs": [],
   "source": [
    "\n",
    "generated_sequence = seed_sequence.clone()\n",
    "\n",
    "    # with torch.no_grad():\n",
    "    #     for _ in range(num_frames_to_generate):\n",
    "    #         # Get the last sequence_length frames from the generated_sequence\n",
    "    #         input_seq = generated_sequence[:, -sequence_length:, :]\n",
    "\n",
    "    #         # Predict the next frame\n",
    "    #         next_frame = model(input_seq)\n",
    "\n",
    "    #         # Reshape the predicted frame to have the same dimensions as input_seq\n",
    "    #         next_frame = next_frame.view(1, 1, -1)\n",
    "\n",
    "    #         # Append the predicted frame to the generated_sequence\n",
    "    #         generated_sequence = torch.cat((generated_sequence, next_frame), dim=1)\n",
    "\n",
    "    # return generated_sequence\n",
    "\n",
    "\n",
    "def generate_sequence(model, seed_sequence, num_frames_to_generate):\n",
    "    model.eval()\n",
    "    generated_sequence = seed_sequence.clone()\n",
    "    #input_seq = seed_sequence.clone()\n",
    "\n",
    "    with torch.no_grad():\n",
    "        # Get the last sequence_length frames from the generated_sequence\n",
    "        input_seq = generated_sequence[:, -sequence_length:, :]\n",
    "        print('last', input_seq.shape)\n",
    "\n",
    "        # Shift the input_seq by one time step to the left and remove the last frame\n",
    "        #tgt_seq = input_seq[:, :-1, :] # .contiguous()\n",
    "        tgt_seq = input_seq[:, -1, :] # .contiguous()\n",
    "        print('tgt', tgt_seq.shape)\n",
    "\n",
    "\n",
    "        # Predict the next frames\n",
    "        next_frame = model(input_seq, tgt_seq)\n",
    "        print('nxt', next_frame.shape)\n",
    "\n",
    "        # Reshape the predicted frame to have the same dimensions as input_seq\n",
    "        #next_frame = next_frame.view(1, 1, -1)\n",
    "\n",
    "        # Append the predicted frame to the generated_sequence\n",
    "        generated_sequence = torch.cat((generated_sequence, next_frame), dim=1)\n",
    "\n",
    "\n",
    "    # Extract the generated sequence from the model's output\n",
    "    generated_sequence = output_seq[:, -num_frames_to_generate:, :]\n",
    "\n",
    "    return generated_sequence\n"
   ]
  },
  {
   "cell_type": "code",
   "execution_count": 81,
   "metadata": {},
   "outputs": [
    {
     "name": "stdout",
     "output_type": "stream",
     "text": [
      "last torch.Size([1, 100, 183])\n",
      "tgt torch.Size([1, 183])\n",
      "nxt torch.Size([100, 1, 183])\n"
     ]
    },
    {
     "ename": "RuntimeError",
     "evalue": "Sizes of tensors must match except in dimension 1. Expected size 1 but got size 100 for tensor number 1 in the list.",
     "output_type": "error",
     "traceback": [
      "\u001b[0;31m---------------------------------------------------------------------------\u001b[0m",
      "\u001b[0;31mRuntimeError\u001b[0m                              Traceback (most recent call last)",
      "\u001b[0;32m/tmp/ipykernel_11632/3324847626.py\u001b[0m in \u001b[0;36m<module>\u001b[0;34m\u001b[0m\n\u001b[1;32m     10\u001b[0m \u001b[0mnum_frames_to_generate\u001b[0m \u001b[0;34m=\u001b[0m \u001b[0;36m1000\u001b[0m\u001b[0;34m\u001b[0m\u001b[0;34m\u001b[0m\u001b[0m\n\u001b[1;32m     11\u001b[0m \u001b[0;34m\u001b[0m\u001b[0m\n\u001b[0;32m---> 12\u001b[0;31m \u001b[0mgenerated_sequence\u001b[0m \u001b[0;34m=\u001b[0m \u001b[0mgenerate_sequence\u001b[0m\u001b[0;34m(\u001b[0m\u001b[0mmodel\u001b[0m\u001b[0;34m,\u001b[0m \u001b[0mseed_sequence\u001b[0m\u001b[0;34m,\u001b[0m \u001b[0mnum_frames_to_generate\u001b[0m\u001b[0;34m)\u001b[0m\u001b[0;34m\u001b[0m\u001b[0;34m\u001b[0m\u001b[0m\n\u001b[0m\u001b[1;32m     13\u001b[0m \u001b[0mgenerated_sequence\u001b[0m \u001b[0;34m=\u001b[0m \u001b[0mgenerated_sequence\u001b[0m\u001b[0;34m.\u001b[0m\u001b[0msqueeze\u001b[0m\u001b[0;34m(\u001b[0m\u001b[0;36m0\u001b[0m\u001b[0;34m)\u001b[0m\u001b[0;34m\u001b[0m\u001b[0;34m\u001b[0m\u001b[0m\n\u001b[1;32m     14\u001b[0m \u001b[0mgenerated_sequence\u001b[0m \u001b[0;34m=\u001b[0m \u001b[0mgenerated_sequence\u001b[0m\u001b[0;34m.\u001b[0m\u001b[0mcpu\u001b[0m\u001b[0;34m(\u001b[0m\u001b[0;34m)\u001b[0m \u001b[0;34m*\u001b[0m \u001b[0mdataset\u001b[0m\u001b[0;34m.\u001b[0m\u001b[0minput_std\u001b[0m \u001b[0;34m+\u001b[0m \u001b[0mdataset\u001b[0m\u001b[0;34m.\u001b[0m\u001b[0minput_mean\u001b[0m\u001b[0;34m\u001b[0m\u001b[0;34m\u001b[0m\u001b[0m\n",
      "\u001b[0;32m/tmp/ipykernel_11632/1119007154.py\u001b[0m in \u001b[0;36mgenerate_sequence\u001b[0;34m(model, seed_sequence, num_frames_to_generate)\u001b[0m\n\u001b[1;32m     42\u001b[0m \u001b[0;34m\u001b[0m\u001b[0m\n\u001b[1;32m     43\u001b[0m         \u001b[0;31m# Append the predicted frame to the generated_sequence\u001b[0m\u001b[0;34m\u001b[0m\u001b[0;34m\u001b[0m\u001b[0m\n\u001b[0;32m---> 44\u001b[0;31m         \u001b[0mgenerated_sequence\u001b[0m \u001b[0;34m=\u001b[0m \u001b[0mtorch\u001b[0m\u001b[0;34m.\u001b[0m\u001b[0mcat\u001b[0m\u001b[0;34m(\u001b[0m\u001b[0;34m(\u001b[0m\u001b[0mgenerated_sequence\u001b[0m\u001b[0;34m,\u001b[0m \u001b[0mnext_frame\u001b[0m\u001b[0;34m)\u001b[0m\u001b[0;34m,\u001b[0m \u001b[0mdim\u001b[0m\u001b[0;34m=\u001b[0m\u001b[0;36m1\u001b[0m\u001b[0;34m)\u001b[0m\u001b[0;34m\u001b[0m\u001b[0;34m\u001b[0m\u001b[0m\n\u001b[0m\u001b[1;32m     45\u001b[0m \u001b[0;34m\u001b[0m\u001b[0m\n\u001b[1;32m     46\u001b[0m \u001b[0;34m\u001b[0m\u001b[0m\n",
      "\u001b[0;31mRuntimeError\u001b[0m: Sizes of tensors must match except in dimension 1. Expected size 1 but got size 100 for tensor number 1 in the list."
     ]
    }
   ],
   "source": [
    "#seed_sequence = torch.randn(1, sequence_length, input_dim).to(device)  # Random seed sequence\n",
    "\n",
    "# Use the first sequence_length frames from the dataset as the seed sequence\n",
    "seed_sequence = raw_data[1000:1000+sequence_length]\n",
    "#print(seed_sequence.shape)\n",
    "seed_sequence = (seed_sequence - dataset.input_mean) / dataset.input_std \n",
    "seed_sequence = seed_sequence.unsqueeze(0).to(device)  \n",
    "#print(seed_sequence.shape)\n",
    "#print(raw_data.shape)\n",
    "num_frames_to_generate = 1000\n",
    "\n",
    "generated_sequence = generate_sequence(model, seed_sequence, num_frames_to_generate)\n",
    "generated_sequence = generated_sequence.squeeze(0)\n",
    "generated_sequence = generated_sequence.cpu() * dataset.input_std + dataset.input_mean\n",
    "generated_sequence = generated_sequence.numpy()\n",
    "print(seed_sequence.shape)\n"
   ]
  },
  {
   "cell_type": "code",
   "execution_count": 57,
   "metadata": {},
   "outputs": [
    {
     "data": {
      "text/plain": [
       "(100, 1, 183)"
      ]
     },
     "execution_count": 57,
     "metadata": {},
     "output_type": "execute_result"
    }
   ],
   "source": [
    "generated_sequence.shape"
   ]
  },
  {
   "cell_type": "code",
   "execution_count": 16,
   "metadata": {},
   "outputs": [],
   "source": [
    "def write_bvh_file(file_name, header, predicted_motion):\n",
    "    # Open the file for writing\n",
    "    with open(file_name, 'w') as f:\n",
    "        # Write the header\n",
    "        f.write(header)\n",
    "        f.write('\\n')\n",
    "        # Write the motion data\n",
    "        for frame in predicted_motion:\n",
    "            frame_str = ' '.join(str(x) for x in frame)\n",
    "            f.write(frame_str + '\\n')"
   ]
  },
  {
   "cell_type": "code",
   "execution_count": 17,
   "metadata": {},
   "outputs": [],
   "source": [
    "write_bvh_file('out_07.bvh', dataset.header, generated_sequence)\n"
   ]
  },
  {
   "cell_type": "code",
   "execution_count": null,
   "metadata": {},
   "outputs": [],
   "source": []
  }
 ],
 "metadata": {
  "kernelspec": {
   "display_name": "Python 3",
   "language": "python",
   "name": "python3"
  },
  "language_info": {
   "codemirror_mode": {
    "name": "ipython",
    "version": 3
   },
   "file_extension": ".py",
   "mimetype": "text/x-python",
   "name": "python",
   "nbconvert_exporter": "python",
   "pygments_lexer": "ipython3",
   "version": "3.10.6"
  },
  "orig_nbformat": 4
 },
 "nbformat": 4,
 "nbformat_minor": 2
}
